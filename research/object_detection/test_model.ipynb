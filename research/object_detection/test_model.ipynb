{
 "cells": [
  {
   "cell_type": "code",
   "execution_count": 1,
   "metadata": {
    "colab": {
     "autoexec": {
      "startup": false,
      "wait_interval": 0
     }
    },
    "colab_type": "code",
    "id": "hV4P5gyTWKMI"
   },
   "outputs": [],
   "source": [
    "from pdb import set_trace\n",
    "import numpy as np\n",
    "import os\n",
    "import six.moves.urllib as urllib\n",
    "import sys\n",
    "import tarfile\n",
    "import tensorflow as tf\n",
    "import zipfile\n",
    "import glob\n",
    "from io import BytesIO  \n",
    "import glob\n",
    "from PIL import Image, ImageDraw, ImageFont\n",
    "import  shutil \n",
    "\n",
    "from collections import defaultdict\n",
    "from distutils.version import StrictVersion\n",
    "from collections import defaultdict\n",
    "from io import StringIO\n",
    "from matplotlib import pyplot as plt\n",
    "from PIL import Image\n",
    "import xml.etree.ElementTree as ET  \n",
    "\n",
    "from utils import label_map_util\n",
    "from utils import visualization_utils as vis_util\n",
    "\n",
    "%matplotlib inline\n",
    "\n",
    "# This is needed since the notebook is stored in the object_detection folder.\n",
    "sys.path.append(\"..\") \n",
    "from object_detection.utils import ops as utils_ops\n",
    "\n",
    "if StrictVersion(tf.__version__) < StrictVersion('1.12.0'):\n",
    "  raise ImportError('Please upgrade your TensorFlow installation to v1.12.*.')\n"
   ]
  },
  {
   "cell_type": "markdown",
   "metadata": {
    "colab_type": "text",
    "id": "X_sEBLpVWKMQ"
   },
   "source": [
    "## Variables\n",
    "\n",
    "Any model exported using the `export_inference_graph.py` tool can be loaded here simply by changing `PATH_TO_FROZEN_GRAPH` to point to a new .pb file.  \n",
    "\n",
    "By default we use an \"SSD with Mobilenet\" model here. See the [detection model zoo](https://github.com/tensorflow/models/blob/master/research/object_detection/g3doc/detection_model_zoo.md) for a list of other models that can be run out-of-the-box with varying speeds and accuracies."
   ]
  },
  {
   "cell_type": "code",
   "execution_count": 2,
   "metadata": {
    "colab": {
     "autoexec": {
      "startup": false,
      "wait_interval": 0
     }
    },
    "colab_type": "code",
    "id": "VyPz_t8WWKMQ"
   },
   "outputs": [],
   "source": [
    "# Variables for download model\n",
    "MODEL_NAME = 'faster_rcnn_resnet101_coco_11_06_2017'\n",
    "MODEL_FILE = MODEL_NAME + '.tar.gz'\n",
    "DOWNLOAD_BASE = 'http://storage.googleapis.com/download.tensorflow.org/models/object_detection/'\n",
    "\n",
    "# Variables for test model\n",
    "model_number = 4\n",
    "PATH_TO_FROZEN_GRAPH = f'/notebooks/projects/object-detection/workspace/fake-license-plate-ocr/training/model_{model_number}/export/frozen_inference_graph.pb'\n",
    "PATH_TO_LABELS = f'/notebooks/projects/object-detection/workspace/fake-license-plate-ocr/training/model_{model_number}/label_map/label_map.pbtxt'\n",
    "PATH_TO_TEST_IMAGES_DIR = '/notebooks/projects/object-detection/workspace/fake-license-plate-ocr/data/test_set/real'\n",
    "TEST_RESULT_DIR = f'/notebooks/projects/object-detection/workspace/fake-license-plate-ocr/training/model_{model_number}/export/result'\n",
    "TESTSET_RATIO = 1 # set to 0 - 1\n"
   ]
  },
  {
   "cell_type": "markdown",
   "metadata": {
    "colab_type": "text",
    "id": "7ai8pLZZWKMS"
   },
   "source": [
    "## Download Model"
   ]
  },
  {
   "cell_type": "code",
   "execution_count": 3,
   "metadata": {
    "colab": {
     "autoexec": {
      "startup": false,
      "wait_interval": 0
     }
    },
    "colab_type": "code",
    "id": "KILYnwR5WKMS"
   },
   "outputs": [],
   "source": [
    "#opener = urllib.request.URLopener()\n",
    "#opener.retrieve(DOWNLOAD_BASE + MODEL_FILE, MODEL_FILE)\n",
    "#tar_file = tarfile.open(MODEL_FILE)\n",
    "#for file in tar_file.getmembers():\n",
    "#  file_name = os.path.basename(file.name)\n",
    "#  if 'frozen_inference_graph.pb' in file_name:\n",
    "#    tar_file.extract(file, os.getcwd())"
   ]
  },
  {
   "cell_type": "markdown",
   "metadata": {
    "colab_type": "text",
    "id": "YBcB9QHLWKMU"
   },
   "source": [
    "## Load a (frozen) Tensorflow model into memory."
   ]
  },
  {
   "cell_type": "code",
   "execution_count": 4,
   "metadata": {
    "colab": {
     "autoexec": {
      "startup": false,
      "wait_interval": 0
     }
    },
    "colab_type": "code",
    "id": "KezjCRVvWKMV"
   },
   "outputs": [],
   "source": [
    "detection_graph = tf.Graph()\n",
    "with detection_graph.as_default():\n",
    "  od_graph_def = tf.GraphDef()\n",
    "  with tf.gfile.GFile(PATH_TO_FROZEN_GRAPH, 'rb') as fid:\n",
    "    serialized_graph = fid.read()\n",
    "    od_graph_def.ParseFromString(serialized_graph)\n",
    "    tf.import_graph_def(od_graph_def, name='')"
   ]
  },
  {
   "cell_type": "markdown",
   "metadata": {
    "colab_type": "text",
    "id": "_1MVVTcLWKMW"
   },
   "source": [
    "## Loading label map"
   ]
  },
  {
   "cell_type": "code",
   "execution_count": 5,
   "metadata": {
    "colab": {
     "autoexec": {
      "startup": false,
      "wait_interval": 0
     }
    },
    "colab_type": "code",
    "id": "hDbpHkiWWKMX"
   },
   "outputs": [],
   "source": [
    "category_index = label_map_util.create_category_index_from_labelmap(PATH_TO_LABELS, use_display_name=True)"
   ]
  },
  {
   "cell_type": "markdown",
   "metadata": {
    "colab_type": "text",
    "id": "EFsoUHvbWKMZ"
   },
   "source": [
    "## Helper code"
   ]
  },
  {
   "cell_type": "code",
   "execution_count": 6,
   "metadata": {
    "colab": {
     "autoexec": {
      "startup": false,
      "wait_interval": 0
     }
    },
    "colab_type": "code",
    "id": "aSlYc3JkWKMa"
   },
   "outputs": [],
   "source": [
    "def load_image_into_numpy_array(image):\n",
    "  (im_width, im_height) = image.size\n",
    "  return np.array(image.getdata()).reshape(\n",
    "      (im_height, im_width, 3)).astype(np.uint8)"
   ]
  },
  {
   "cell_type": "markdown",
   "metadata": {
    "colab_type": "text",
    "id": "H0_1AGhrWKMc"
   },
   "source": [
    "# Detection"
   ]
  },
  {
   "cell_type": "code",
   "execution_count": 7,
   "metadata": {
    "colab": {
     "autoexec": {
      "startup": false,
      "wait_interval": 0
     }
    },
    "colab_type": "code",
    "id": "92BHxzcNWKMf"
   },
   "outputs": [],
   "source": [
    "def run_inference_for_single_image(image, graph):\n",
    "  with graph.as_default():\n",
    "    with tf.Session() as sess:\n",
    "      # Get handles to input and output tensors\n",
    "      ops = tf.get_default_graph().get_operations()\n",
    "      all_tensor_names = {output.name for op in ops for output in op.outputs}\n",
    "      tensor_dict = {}\n",
    "      for key in [\n",
    "          'num_detections', 'detection_boxes', 'detection_scores',\n",
    "          'detection_classes', 'detection_masks'\n",
    "      ]:\n",
    "        tensor_name = key + ':0'\n",
    "        if tensor_name in all_tensor_names:\n",
    "            tensor_dict[key] = tf.get_default_graph().get_tensor_by_name(\n",
    "            tensor_name)\n",
    "      if 'detection_masks' in tensor_dict:\n",
    "        # The following processing is only for single image\n",
    "        detection_boxes = tf.squeeze(tensor_dict['detection_boxes'], [0])\n",
    "        detection_masks = tf.squeeze(tensor_dict['detection_masks'], [0])\n",
    "        # Reframe is required to translate mask from box coordinates to image coordinates and fit the image size.\n",
    "        real_num_detection = tf.cast(tensor_dict['num_detections'][0], tf.int32)\n",
    "        detection_boxes = tf.slice(detection_boxes, [0, 0], [real_num_detection, -1])\n",
    "        detection_masks = tf.slice(detection_masks, [0, 0, 0], [real_num_detection, -1, -1])\n",
    "        detection_masks_reframed = utils_ops.reframe_box_masks_to_image_masks(\n",
    "            detection_masks, detection_boxes, image.shape[1], image.shape[2])\n",
    "        detection_masks_reframed = tf.cast(\n",
    "            tf.greater(detection_masks_reframed, 0.5), tf.uint8)\n",
    "        # Follow the convention by adding back the batch dimension\n",
    "        tensor_dict['detection_masks'] = tf.expand_dims(\n",
    "            detection_masks_reframed, 0)\n",
    "      image_tensor = tf.get_default_graph().get_tensor_by_name('image_tensor:0')\n",
    "\n",
    "      # Run inference\n",
    "      output_dict = sess.run(tensor_dict,\n",
    "                             feed_dict={image_tensor: image})\n",
    "\n",
    "      # all outputs are float32 numpy arrays, so convert types as appropriate\n",
    "      output_dict['num_detections'] = int(output_dict['num_detections'][0])\n",
    "      output_dict['detection_classes'] = output_dict[\n",
    "          'detection_classes'][0].astype(np.int64)\n",
    "      output_dict['detection_boxes'] = output_dict['detection_boxes'][0]\n",
    "      output_dict['detection_scores'] = output_dict['detection_scores'][0]\n",
    "      if 'detection_masks' in output_dict:\n",
    "        output_dict['detection_masks'] = output_dict['detection_masks'][0]\n",
    "  return output_dict"
   ]
  },
  {
   "cell_type": "code",
   "execution_count": 8,
   "metadata": {},
   "outputs": [],
   "source": [
    "def choose_best_detections(image,\n",
    "                           boxes, \n",
    "                           classes, \n",
    "                           scores,\n",
    "                           category_index,\n",
    "                           max_prediction = 7,                           \n",
    "                           min_score_thresh = .5):\n",
    "    detections = []\n",
    "    width, height = image.size\n",
    "    for i in range(min(boxes.shape[0], max_prediction)):\n",
    "        if scores[i] > min_score_thresh:\n",
    "            ymin, xmin, ymax, xmax = tuple(boxes[i].tolist())\n",
    "            xmin, ymin, xmax, ymax = int(xmin * width), int(ymin * height), int(xmax * width), int(ymax * height)\n",
    "            \n",
    "            if classes[i] in category_index.keys():\n",
    "                label = category_index[classes[i]]['name']\n",
    "            else:\n",
    "                label = 'NA'\n",
    "            score = scores[i]\n",
    "            \n",
    "            detection = {}\n",
    "            detection['box'] = (xmin, ymin, xmax, ymax)\n",
    "            detection['label'] = label\n",
    "            detection['score'] = score\n",
    "            detections.append(detection)\n",
    "    return detections\n",
    "\n",
    "def sort_detections_left_to_right(single_image_detections):\n",
    "    return sorted(single_image_detections, key=lambda x: x['box'][0])"
   ]
  },
  {
   "cell_type": "markdown",
   "metadata": {},
   "source": [
    "### Do Detection Here"
   ]
  },
  {
   "cell_type": "code",
   "execution_count": null,
   "metadata": {
    "colab": {
     "autoexec": {
      "startup": false,
      "wait_interval": 0
     }
    },
    "colab_type": "code",
    "id": "3a5wMHN8WKMh"
   },
   "outputs": [],
   "source": [
    "if TESTSET_RATIO > 1:\n",
    "    TESTSET_RATIO = 1\n",
    "elif TESTSET_RATIO < 0:\n",
    "    TESTSET_RATIO = 0\n",
    "    \n",
    "TEST_IMAGE_PATHS = [f for f in glob.glob(PATH_TO_TEST_IMAGES_DIR + '**/*.jpg')]\n",
    "n_testset = int(len(TEST_IMAGE_PATHS) * TESTSET_RATIO)\n",
    "np.random.seed(42)\n",
    "np.random.shuffle(TEST_IMAGE_PATHS)\n",
    "TEST_IMAGE_PATHS = TEST_IMAGE_PATHS[:n_testset]\n",
    "\n",
    "#TEST_IMAGE_PATHS = TEST_IMAGE_PATHS[:1]\n",
    "\n",
    "all_images_detections = {}\n",
    "\n",
    "for image_path in TEST_IMAGE_PATHS: \n",
    "    # Open image to inference\n",
    "    image = Image.open(image_path)\n",
    "    if image.mode != 'RGB':\n",
    "        image = image.convert('RGB')\n",
    "        b = BytesIO()\n",
    "        image.save(b,format='jpeg')\n",
    "        image = Image.open(b)\n",
    "        \n",
    "    # Convert to numpy array    \n",
    "    image_np = load_image_into_numpy_array(image)\n",
    "  \n",
    "    # Expand dimensions since the model expects images to have shape: [1, None, None, 3]\n",
    "    image_np_expanded = np.expand_dims(image_np, axis=0)\n",
    "    \n",
    "    # Do inference\n",
    "    output_dict = run_inference_for_single_image(image_np_expanded, detection_graph)\n",
    "    \n",
    "    # Select only detection which has hight confident score\n",
    "    single_image_detections = choose_best_detections(image,\n",
    "                                                   output_dict['detection_boxes'], \n",
    "                                                   output_dict['detection_classes'], \n",
    "                                                   output_dict['detection_scores'],\n",
    "                                                   category_index)\n",
    "    # Sort detections left-to-right\n",
    "    single_image_detections = sort_detections_left_to_right(single_image_detections)\n",
    "    \n",
    "    # Validate detection before add\n",
    "    \n",
    "    \n",
    "    # Append to detections list\n",
    "    image_name = os.path.basename(image_path).split('.')[0]\n",
    "    all_images_detections[image_name] = single_image_detections"
   ]
  },
  {
   "cell_type": "code",
   "execution_count": null,
   "metadata": {},
   "outputs": [],
   "source": [
    "# Construct Ground Truth of all images\n",
    "all_images_ground_truths = {}\n",
    "\n",
    "for image_name, _ in all_images_detections.items():\n",
    "    \n",
    "    xml_path = os.path.join(PATH_TO_TEST_IMAGES_DIR, image_name + '.xml')\n",
    "    \n",
    "    single_image_ground_truths = []\n",
    "    \n",
    "    tree = ET.parse(xml_path)\n",
    "    object_elem_list = tree.getroot().findall('object')\n",
    "    for object_elem in object_elem_list:    \n",
    "        ground_truth = {}\n",
    "        bndbox_elem = object_elem.find('bndbox')\n",
    "\n",
    "        xmin = int(float(bndbox_elem.find('xmin').text))\n",
    "        ymin = int(float(bndbox_elem.find('ymin').text))\n",
    "        xmax = int(float(bndbox_elem.find('xmax').text))\n",
    "        ymax = int(float(bndbox_elem.find('ymax').text))\n",
    "\n",
    "        name = object_elem.find('name').text\n",
    "        \n",
    "        ground_truth['box'] = (xmin, ymin, xmax, ymax)\n",
    "        ground_truth['label'] = name\n",
    "        ground_truth['score'] = None\n",
    "\n",
    "        single_image_ground_truths.append(ground_truth) \n",
    "    single_image_ground_truths = sort_detections_left_to_right(single_image_ground_truths)    \n",
    "    all_images_ground_truths[image_name] = single_image_ground_truths"
   ]
  },
  {
   "cell_type": "code",
   "execution_count": null,
   "metadata": {},
   "outputs": [],
   "source": []
  },
  {
   "cell_type": "markdown",
   "metadata": {},
   "source": [
    "### Calculate exact matched recall"
   ]
  },
  {
   "cell_type": "code",
   "execution_count": 28,
   "metadata": {},
   "outputs": [
    {
     "name": "stdout",
     "output_type": "stream",
     "text": [
      "Model can recalls          8.2% of images\n"
     ]
    }
   ],
   "source": [
    "def recall_of_all_images(all_images_ground_truths, all_images_detections):\n",
    "    #detected labels\n",
    "    predicted_labels = [[det['label'] for det in single_image_detections] for image_name, single_image_detections in all_images_detections.items()]\n",
    " \n",
    "    #ground truth labels\n",
    "    ground_truth_labels = [[gt['label'] for gt in single_image_ground_truths] for image_name, single_image_ground_truths in all_images_ground_truths.items()]\n",
    "    \n",
    "    n_images = len(ground_truth_labels)\n",
    "    return sum([ground_truth_labels[i] == predicted_label for i, predicted_label in enumerate(predicted_labels)]) / n_images\n",
    "\n",
    "all_images_recall = recall_of_all_images(all_images_ground_truths, all_images_detections)\n",
    "print(f\"Model can recalls          {all_images_recall*100:.1f}% of images\")"
   ]
  },
  {
   "cell_type": "markdown",
   "metadata": {},
   "source": [
    "### Calculate TP, FP and FN for each class"
   ]
  },
  {
   "cell_type": "code",
   "execution_count": 29,
   "metadata": {},
   "outputs": [],
   "source": [
    "def total_ground_truths(all_images_ground_truths):\n",
    "    return sum([len(single_image_ground_truths) for _, single_image_ground_truths in all_images_ground_truths.items()])\n",
    "\n",
    "def cal_iou(det_box, gt_box):\n",
    "    intersect_xmin = max([det_box[0], gt_box[0]])\n",
    "    intersect_ymin = max([det_box[1], gt_box[1]])\n",
    "    intersect_xmax = min([det_box[2], gt_box[2]])\n",
    "    intersect_ymax = min([det_box[3], gt_box[3]])\n",
    "    \n",
    "    intersect_area = max(0, intersect_xmax - intersect_xmin + 1) * max(0, intersect_ymax - intersect_ymin + 1)\n",
    "    \n",
    "    det_box_area = (det_box[2] - det_box[0] + 1) * (det_box[3] - det_box[1] + 1)\n",
    "    gt_box_area = (gt_box[2] - gt_box[0] + 1) * (gt_box[3] - gt_box[1] + 1)\n",
    "    \n",
    "    iou = intersect_area / float(det_box_area + gt_box_area - intersect_area)\n",
    "    \n",
    "    return iou"
   ]
  },
  {
   "cell_type": "code",
   "execution_count": 30,
   "metadata": {},
   "outputs": [],
   "source": [
    "iou_threshold = 0.5\n",
    "\n",
    "for image_name, single_image_detections in all_images_detections.items():\n",
    "    single_image_ground_truths = all_images_ground_truths[image_name].copy()\n",
    "    \n",
    "    for det in single_image_detections:\n",
    "        not_found = True\n",
    "        for gt in single_image_ground_truths:\n",
    "            iou = cal_iou(det['box'], gt['box'])\n",
    "            if iou >= iou_threshold:\n",
    "                det['actual'] = gt['label']\n",
    "                not_found = False\n",
    "                break  \n",
    "                \n",
    "        if not_found:        \n",
    "            det['actual'] = 'NA'     \n",
    "\n",
    "for image_name, single_image_ground_truths in all_images_ground_truths.items():\n",
    "    single_image_detection = all_images_detections[image_name].copy()\n",
    "    \n",
    "    for gt in single_image_ground_truths:\n",
    "        not_found = True\n",
    "        for det in single_image_detection:\n",
    "            iou = cal_iou(gt['box'], det['box'])\n",
    "            if iou >= iou_threshold:\n",
    "                gt['predict'] = det['label']\n",
    "                not_found = False\n",
    "                break  \n",
    "                \n",
    "        if not_found:        \n",
    "            gt['predict'] = 'NA'                "
   ]
  },
  {
   "cell_type": "code",
   "execution_count": 31,
   "metadata": {},
   "outputs": [],
   "source": [
    "#[sd for _, sds in all_images_detections.items() for sd in sds if sd['label'] == 'NA']"
   ]
  },
  {
   "cell_type": "markdown",
   "metadata": {},
   "source": [
    "### TP, FP and FN"
   ]
  },
  {
   "cell_type": "code",
   "execution_count": 32,
   "metadata": {},
   "outputs": [],
   "source": [
    "n_correct_detection = sum([det['label'] == det['actual'] for _, single_image_detections in all_images_detections.items() for det in single_image_detections])\n",
    "n_wrong_detection = sum([det['label'] != det['actual'] for _, single_image_detections in all_images_detections.items() for det in single_image_detections])\n",
    "n_undetected = sum([gt['label'] != gt['predict'] for _, single_image_ground_truths in all_images_ground_truths.items() for gt in single_image_ground_truths])"
   ]
  },
  {
   "cell_type": "markdown",
   "metadata": {},
   "source": [
    "#### All classes Recall"
   ]
  },
  {
   "cell_type": "code",
   "execution_count": 33,
   "metadata": {},
   "outputs": [
    {
     "name": "stdout",
     "output_type": "stream",
     "text": [
      "Model correctly recalls about       77.3% of chars\n"
     ]
    }
   ],
   "source": [
    "recall_score = n_correct_detection / total_ground_truths(all_images_ground_truths)\n",
    "print(f\"Model correctly recalls about       {recall_score*100:.1f}% of chars\" )"
   ]
  },
  {
   "cell_type": "markdown",
   "metadata": {},
   "source": [
    "#### All classes Precision "
   ]
  },
  {
   "cell_type": "code",
   "execution_count": 34,
   "metadata": {},
   "outputs": [
    {
     "name": "stdout",
     "output_type": "stream",
     "text": [
      "Model True Positive Rate(Precision) 77.0% of chars\n",
      "Model False Positive Rate           23.0% of chars\n"
     ]
    }
   ],
   "source": [
    "true_positive_rate = n_correct_detection / (n_correct_detection + n_wrong_detection)\n",
    "false_positive_rate = n_wrong_detection / (n_correct_detection + n_wrong_detection)\n",
    "print(f\"Model True Positive Rate(Precision) {true_positive_rate*100:.1f}% of chars\")\n",
    "print(f\"Model False Positive Rate           {false_positive_rate*100:.1f}% of chars\")"
   ]
  },
  {
   "cell_type": "markdown",
   "metadata": {},
   "source": [
    "### Error Analysis"
   ]
  },
  {
   "cell_type": "code",
   "execution_count": 35,
   "metadata": {},
   "outputs": [
    {
     "name": "stderr",
     "output_type": "stream",
     "text": [
      "/root/anaconda3/envs/object-detection/lib/python3.6/site-packages/ipykernel_launcher.py:18: RuntimeWarning: invalid value encountered in true_divide\n"
     ]
    },
    {
     "data": {
      "image/png": "[encoded data removed]",
      "text/plain": [
       "<Figure size 1440x1440 with 1 Axes>"
      ]
     },
     "metadata": {
      "needs_background": "light"
     },
     "output_type": "display_data"
    }
   ],
   "source": [
    "from sklearn.metrics import confusion_matrix\n",
    "from sklearn.preprocessing import LabelEncoder\n",
    "from matplotlib import pyplot as plt\n",
    "%matplotlib inline\n",
    "\n",
    "gts_dets = np.array([[gt['label'], gt['predict']] for _, single_image_ground_truths in all_images_ground_truths.items() for gt in single_image_ground_truths])\n",
    "\n",
    "labels = set(gts_dets[:, 0])\n",
    "labels.update(gts_dets[:, 1])\n",
    "labels = sorted(list(labels))\n",
    "le = LabelEncoder()\n",
    "le.fit(labels)\n",
    "\n",
    "conf_mx = confusion_matrix(gts_dets[:, 0], \n",
    "                           gts_dets[:, 1], \n",
    "                           labels=labels)\n",
    "row_sums = conf_mx.sum(axis=1, keepdims=True)\n",
    "norm_conf_mx = conf_mx / row_sums\n",
    "np.fill_diagonal(norm_conf_mx, 0)\n",
    "\n",
    "plt.figure(figsize=(20,20))\n",
    "plt.imshow(norm_conf_mx, cmap='gray')\n",
    "plt.xticks(np.arange(len(labels)), labels=labels, family='Tahoma')\n",
    "plt.yticks(np.arange(len(labels)), labels=labels, family='Tahoma')\n",
    "plt.show()\n"
   ]
  },
  {
   "cell_type": "code",
   "execution_count": null,
   "metadata": {},
   "outputs": [],
   "source": []
  },
  {
   "cell_type": "markdown",
   "metadata": {},
   "source": [
    "### Draw Result"
   ]
  },
  {
   "cell_type": "code",
   "execution_count": null,
   "metadata": {},
   "outputs": [],
   "source": [
    "def draw_detection(out_dir, image_path, detections, font, display_label=True):\n",
    "    image_name = os.path.basename(image_path).split('.')[0]\n",
    "    \n",
    "    cleaned_image = Image.open(image_path)\n",
    "    if cleaned_image.mode != 'RGB':\n",
    "        cleaned_image = cleaned_image.convert('RGB')\n",
    "    cleaned_image_drawer = ImageDraw.Draw(cleaned_image)    \n",
    "    \n",
    "    for det in detections:\n",
    "        label = det['label']\n",
    "        xmin, ymin, xmax, ymax = det['box']\n",
    "        cleaned_image_drawer.line([(xmin, ymin), \n",
    "                                   (xmax, ymin),\n",
    "                                   (xmax, ymax),\n",
    "                                   (xmin, ymax),\n",
    "                                   (xmin, ymin)], fill=(255, 0, 0), width=2)\n",
    "        if display_label:\n",
    "            cleaned_image_drawer.text((xmin + (xmax - xmin) / 2, ymax), label, fill=(255,0,0), font=font)\n",
    "    cleaned_image.save(os.path.join(out_dir, f'{image_name}.jpg'))\n",
    "\n",
    "# Define font\n",
    "font_path = '/notebooks/projects/object-detection/models/research/object_detection/utils/fonts/angsa.ttf'\n",
    "font = ImageFont.truetype(font_path, 18)\n"
   ]
  },
  {
   "cell_type": "code",
   "execution_count": null,
   "metadata": {},
   "outputs": [],
   "source": [
    "# Draw True Positive\n",
    "correct_detection_dir = os.path.join(TEST_RESULT_DIR, 'correct_detection')\n",
    "if not os.path.exists(correct_detection_dir):\n",
    "    os.makedirs(correct_detection_dir)\n",
    "    \n",
    "for image_name, single_image_detections in all_images_detections.items():\n",
    "    image_path = os.path.join(PATH_TO_TEST_IMAGES_DIR, image_name + '.jpg')\n",
    "    detections_to_draw = [detection for detection in single_image_detections if detection['label'] == detection['actual']]\n",
    "    if len(detections_to_draw) > 0:\n",
    "        draw_detection(correct_detection_dir, image_path, detections_to_draw, font)"
   ]
  },
  {
   "cell_type": "code",
   "execution_count": null,
   "metadata": {},
   "outputs": [],
   "source": [
    "# Draw False Positive\n",
    "wrong_detection_dir = os.path.join(TEST_RESULT_DIR, 'wrong_detection')\n",
    "#if not os.path.exists(wrong_detection_dir):\n",
    "#    os.makedirs(wrong_detection_dir)\n",
    "    \n",
    "for image_name, single_image_detections in all_images_detections.items():\n",
    "    image_path = os.path.join(PATH_TO_TEST_IMAGES_DIR, image_name + '.jpg')\n",
    "    wrong_detections = [detection for detection in single_image_detections if detection['label'] != detection['actual']]\n",
    "    if len(wrong_detections) > 0:\n",
    "        for wrong_detection in wrong_detections:\n",
    "            if wrong_detection['actual'] == 'NA':\n",
    "                out_dir = os.path.join(wrong_detection_dir, 'NA')\n",
    "            else:\n",
    "                out_dir = os.path.join(wrong_detection_dir, str(ord(wrong_detection['actual'])), str(ord(wrong_detection['label'])))\n",
    "            if not os.path.exists(out_dir):\n",
    "                os.makedirs(out_dir)\n",
    "            draw_detection(out_dir, image_path, [wrong_detection], font)"
   ]
  },
  {
   "cell_type": "code",
   "execution_count": null,
   "metadata": {},
   "outputs": [],
   "source": [
    "wrong_detection"
   ]
  },
  {
   "cell_type": "code",
   "execution_count": null,
   "metadata": {},
   "outputs": [],
   "source": [
    "# Draw False Negative\n",
    "undetected_dir = os.path.join(TEST_RESULT_DIR, 'undetected')\n",
    "\n",
    "for image_name, single_image_ground_truths in all_images_ground_truths.items():\n",
    "    image_path = os.path.join(PATH_TO_TEST_IMAGES_DIR, image_name + '.jpg')\n",
    "    gts_to_draw = [gt for gt in single_image_ground_truths if gt['predict'] == 'NA']\n",
    "    if len(gts_to_draw) > 0:\n",
    "        for gt in gts_to_draw:\n",
    "            out_dir = os.path.join(undetected_dir, str(ord(gt['label'])))\n",
    "            if not os.path.exists(out_dir):\n",
    "                os.makedirs(out_dir)\n",
    "            draw_detection(out_dir, image_path, [gt], font, display_label=False)"
   ]
  },
  {
   "cell_type": "code",
   "execution_count": null,
   "metadata": {},
   "outputs": [],
   "source": []
  },
  {
   "cell_type": "code",
   "execution_count": null,
   "metadata": {},
   "outputs": [],
   "source": [
    "# Draw All Detection\n",
    "all_detections_dir = os.path.join(TEST_RESULT_DIR, 'all_detection')\n",
    "if not os.path.exists(all_detections_dir):\n",
    "    os.makedirs(all_detections_dir)\n",
    "for image_name, single_image_detections in all_images_detections.items():\n",
    "    image_path = os.path.join(PATH_TO_TEST_IMAGES_DIR, image_name + '.jpg')\n",
    "    draw_detection(all_detections_dir, image_path, single_image_detections, font) "
   ]
  },
  {
   "cell_type": "code",
   "execution_count": null,
   "metadata": {},
   "outputs": [],
   "source": []
  },
  {
   "cell_type": "code",
   "execution_count": null,
   "metadata": {},
   "outputs": [],
   "source": []
  }
 ],
 "metadata": {
  "colab": {
   "default_view": {},
   "name": "object_detection_tutorial.ipynb?workspaceId=ronnyvotel:python_inference::citc",
   "provenance": [],
   "version": "0.3.2",
   "views": {}
  },
  "kernelspec": {
   "display_name": "object-detection",
   "language": "python",
   "name": "object-detection"
  },
  "language_info": {
   "codemirror_mode": {
    "name": "ipython",
    "version": 3
   },
   "file_extension": ".py",
   "mimetype": "text/x-python",
   "name": "python",
   "nbconvert_exporter": "python",
   "pygments_lexer": "ipython3",
   "version": "3.6.0"
  }
 },
 "nbformat": 4,
 "nbformat_minor": 2
}
