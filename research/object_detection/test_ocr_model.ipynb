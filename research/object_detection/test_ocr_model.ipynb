{
 "cells": [
  {
   "cell_type": "code",
   "execution_count": 66,
   "metadata": {
    "colab": {
     "autoexec": {
      "startup": false,
      "wait_interval": 0
     }
    },
    "colab_type": "code",
    "id": "hV4P5gyTWKMI"
   },
   "outputs": [],
   "source": [
    "import warnings\n",
    "warnings.filterwarnings('ignore')\n",
    "\n",
    "import numpy as np\n",
    "import os\n",
    "import glob\n",
    "from matplotlib import pyplot as plt\n",
    "from pdb import set_trace\n",
    "from PIL import Image, ImageDraw, ImageFont\n",
    "from collections import defaultdict\n",
    "import xml.etree.ElementTree as ET  \n",
    "import cv2\n",
    "\n",
    "\n",
    "from detector.Detector import Detector \n"
   ]
  },
  {
   "cell_type": "code",
   "execution_count": 67,
   "metadata": {
    "colab": {
     "autoexec": {
      "startup": false,
      "wait_interval": 0
     }
    },
    "colab_type": "code",
    "id": "VyPz_t8WWKMQ"
   },
   "outputs": [],
   "source": [
    "FROZEN_GRAPH_PATH = 'C:/Users/iApp/Desktop/projects/object-detection/models/workspace/lp_ocr/faster_rcnn_resnet50_gs_h150/export/frozen_inference_graph.pb'\n",
    "LABEL_MAP_PATH = 'C:/Users/iApp/Desktop/projects/object-detection/models/workspace/lp_ocr/faster_rcnn_resnet50_gs_h150/export/label_map.pbtxt'\n",
    "TEST_IMAGES_DIR_PATH =  'C:/Users/iApp/Desktop/projects/lp-ocr-preprocessing/cropped_lps/gs-testset/'\n",
    "TEST_RESULT_DIR = 'C:/Users/iApp/Desktop/projects/object-detection/models/workspace/lp_ocr/faster_rcnn_resnet50_gs_h150'\n",
    "TESTSET_RATIO = 1"
   ]
  },
  {
   "cell_type": "markdown",
   "metadata": {
    "colab_type": "text",
    "id": "H0_1AGhrWKMc"
   },
   "source": [
    "# Detection"
   ]
  },
  {
   "cell_type": "code",
   "execution_count": 47,
   "metadata": {},
   "outputs": [],
   "source": [
    "def sort_detections_left_to_right(single_image_detections):\n",
    "    return sorted(single_image_detections, key=lambda x: x['box'][0])"
   ]
  },
  {
   "cell_type": "markdown",
   "metadata": {},
   "source": [
    "### Do Detection Here"
   ]
  },
  {
   "cell_type": "code",
   "execution_count": 48,
   "metadata": {
    "colab": {
     "autoexec": {
      "startup": false,
      "wait_interval": 0
     }
    },
    "colab_type": "code",
    "id": "3a5wMHN8WKMh"
   },
   "outputs": [],
   "source": [
    "if TESTSET_RATIO > 1:\n",
    "    TESTSET_RATIO = 1\n",
    "elif TESTSET_RATIO < 0:\n",
    "    TESTSET_RATIO = 0\n",
    "    \n",
    "TEST_IMAGE_PATHS =  [f for f in glob.glob(TEST_IMAGES_DIR_PATH + '*.jpg')]\n",
    "n_testset = int(len(TEST_IMAGE_PATHS) * TESTSET_RATIO)\n",
    "np.random.seed(42)\n",
    "np.random.shuffle(TEST_IMAGE_PATHS)\n",
    "TEST_IMAGE_PATHS = TEST_IMAGE_PATHS[:n_testset]\n",
    "\n",
    "#TEST_IMAGE_PATHS = TEST_IMAGE_PATHS[:1]\n",
    "\n",
    "all_images_detections = {}\n",
    "with Detector(FROZEN_GRAPH_PATH, LABEL_MAP_PATH) as detector:\n",
    "    for image_path in TEST_IMAGE_PATHS: \n",
    "        image = cv2.imread(image_path)\n",
    "        image = cv2.cvtColor(image, cv2.COLOR_BGR2RGB)\n",
    "        # Sort detections left-to-right\n",
    "        single_image_detections = sort_detections_left_to_right(detector.detect(image, maxDetection=8))\n",
    "\n",
    "        # Validate detection before add\n",
    "\n",
    "\n",
    "        # Append to detections list\n",
    "        image_name = os.path.basename(image_path).split('.')[0]\n",
    "        all_images_detections[image_name] = single_image_detections"
   ]
  },
  {
   "cell_type": "code",
   "execution_count": 49,
   "metadata": {},
   "outputs": [],
   "source": [
    "# Construct Ground Truth of all images\n",
    "all_images_ground_truths = {}\n",
    "\n",
    "for image_name, _ in all_images_detections.items():\n",
    "    \n",
    "    xml_path = os.path.join(TEST_IMAGES_DIR_PATH, image_name + '.xml')\n",
    "    \n",
    "    single_image_ground_truths = []\n",
    "    \n",
    "    tree = ET.parse(xml_path)\n",
    "    object_elem_list = tree.getroot().findall('object')\n",
    "    for object_elem in object_elem_list:    \n",
    "        ground_truth = {}\n",
    "        bndbox_elem = object_elem.find('bndbox')\n",
    "\n",
    "        xmin = int(float(bndbox_elem.find('xmin').text))\n",
    "        ymin = int(float(bndbox_elem.find('ymin').text))\n",
    "        xmax = int(float(bndbox_elem.find('xmax').text))\n",
    "        ymax = int(float(bndbox_elem.find('ymax').text))\n",
    "\n",
    "        name = object_elem.find('name').text\n",
    "        \n",
    "        ground_truth['box'] = (xmin, ymin, xmax, ymax)\n",
    "        ground_truth['label'] = name\n",
    "        ground_truth['score'] = None\n",
    "\n",
    "        single_image_ground_truths.append(ground_truth) \n",
    "    single_image_ground_truths = sort_detections_left_to_right(single_image_ground_truths)    \n",
    "    all_images_ground_truths[image_name] = single_image_ground_truths"
   ]
  },
  {
   "cell_type": "markdown",
   "metadata": {},
   "source": [
    "### Calculate exact matched recall"
   ]
  },
  {
   "cell_type": "code",
   "execution_count": 50,
   "metadata": {},
   "outputs": [
    {
     "name": "stdout",
     "output_type": "stream",
     "text": [
      "Model can recalls          55.2% of images\n"
     ]
    }
   ],
   "source": [
    "def recall_of_all_images(all_images_ground_truths, all_images_detections):\n",
    "    count = 0\n",
    "    for image_name, single_image_ground_truths in all_images_ground_truths.items():\n",
    "        gt_label = list(map(lambda gt: gt['label'], single_image_ground_truths))\n",
    "        det_label = list(map(lambda det: det['label'], all_images_detections[image_name]))\n",
    "        count += (gt_label == det_label)\n",
    "\n",
    "    return count / len(all_images_ground_truths)\n",
    "all_images_recall = recall_of_all_images(all_images_ground_truths, all_images_detections)\n",
    "print(f\"Model can recalls          {all_images_recall*100:.1f}% of images\")"
   ]
  },
  {
   "cell_type": "markdown",
   "metadata": {},
   "source": [
    "### Calculate TP, FP and FN for each class"
   ]
  },
  {
   "cell_type": "code",
   "execution_count": 51,
   "metadata": {},
   "outputs": [],
   "source": [
    "def total_ground_truths(all_images_ground_truths):\n",
    "    return sum([len(single_image_ground_truths) for _, single_image_ground_truths in all_images_ground_truths.items()])\n",
    "\n",
    "def cal_iou(det_box, gt_box):\n",
    "    intersect_xmin = max([det_box[0], gt_box[0]])\n",
    "    intersect_ymin = max([det_box[1], gt_box[1]])\n",
    "    intersect_xmax = min([det_box[2], gt_box[2]])\n",
    "    intersect_ymax = min([det_box[3], gt_box[3]])\n",
    "    \n",
    "    intersect_area = max(0, intersect_xmax - intersect_xmin + 1) * max(0, intersect_ymax - intersect_ymin + 1)\n",
    "    \n",
    "    det_box_area = (det_box[2] - det_box[0] + 1) * (det_box[3] - det_box[1] + 1)\n",
    "    gt_box_area = (gt_box[2] - gt_box[0] + 1) * (gt_box[3] - gt_box[1] + 1)\n",
    "    \n",
    "    iou = intersect_area / float(det_box_area + gt_box_area - intersect_area)\n",
    "    \n",
    "    return iou"
   ]
  },
  {
   "cell_type": "code",
   "execution_count": 52,
   "metadata": {},
   "outputs": [],
   "source": [
    "iou_threshold = 0.5\n",
    "\n",
    "for image_name, single_image_detections in all_images_detections.items():\n",
    "    single_image_ground_truths = all_images_ground_truths[image_name].copy()\n",
    "    \n",
    "    for det in single_image_detections:\n",
    "        not_found = True\n",
    "        for gt in single_image_ground_truths:\n",
    "            iou = cal_iou(det['box'], gt['box'])\n",
    "            if iou >= iou_threshold:\n",
    "                det['actual'] = gt['label']\n",
    "                not_found = False\n",
    "                break  \n",
    "                \n",
    "        if not_found:        \n",
    "            det['actual'] = 'NA'     \n",
    "\n",
    "for image_name, single_image_ground_truths in all_images_ground_truths.items():\n",
    "    single_image_detection = all_images_detections[image_name].copy()\n",
    "    \n",
    "    for gt in single_image_ground_truths:\n",
    "        not_found = True\n",
    "        for det in single_image_detection:\n",
    "            iou = cal_iou(gt['box'], det['box'])\n",
    "            if iou >= iou_threshold:\n",
    "                gt['predict'] = det['label']\n",
    "                not_found = False\n",
    "                break  \n",
    "                \n",
    "        if not_found:        \n",
    "            gt['predict'] = 'NA'                "
   ]
  },
  {
   "cell_type": "markdown",
   "metadata": {},
   "source": [
    "### TP, FP and FN"
   ]
  },
  {
   "cell_type": "code",
   "execution_count": 53,
   "metadata": {},
   "outputs": [],
   "source": [
    "n_correct_detection = sum([det['label'] == det['actual'] for _, single_image_detections in all_images_detections.items() for det in single_image_detections])\n",
    "n_wrong_detection = sum([det['label'] != det['actual'] for _, single_image_detections in all_images_detections.items() for det in single_image_detections])\n",
    "n_undetected = sum([gt['label'] != gt['predict'] for _, single_image_ground_truths in all_images_ground_truths.items() for gt in single_image_ground_truths])"
   ]
  },
  {
   "cell_type": "markdown",
   "metadata": {},
   "source": [
    "#### All classes Recall"
   ]
  },
  {
   "cell_type": "code",
   "execution_count": 54,
   "metadata": {},
   "outputs": [
    {
     "name": "stdout",
     "output_type": "stream",
     "text": [
      "Model correctly recalls about       90.3% of chars\n"
     ]
    }
   ],
   "source": [
    "recall_score = n_correct_detection / total_ground_truths(all_images_ground_truths)\n",
    "print(f\"Model correctly recalls about       {recall_score*100:.1f}% of chars\" )"
   ]
  },
  {
   "cell_type": "markdown",
   "metadata": {},
   "source": [
    "#### All classes Precision "
   ]
  },
  {
   "cell_type": "code",
   "execution_count": 55,
   "metadata": {},
   "outputs": [
    {
     "name": "stdout",
     "output_type": "stream",
     "text": [
      "Model True Positive Rate(Precision) 91.1% of chars\n",
      "Model False Positive Rate           8.9% of chars\n"
     ]
    }
   ],
   "source": [
    "true_positive_rate = n_correct_detection / (n_correct_detection + n_wrong_detection)\n",
    "false_positive_rate = n_wrong_detection / (n_correct_detection + n_wrong_detection)\n",
    "print(f\"Model True Positive Rate(Precision) {true_positive_rate*100:.1f}% of chars\")\n",
    "print(f\"Model False Positive Rate           {false_positive_rate*100:.1f}% of chars\")"
   ]
  },
  {
   "cell_type": "markdown",
   "metadata": {},
   "source": [
    "### Error Analysis"
   ]
  },
  {
   "cell_type": "code",
   "execution_count": 56,
   "metadata": {
    "scrolled": false
   },
   "outputs": [
    {
     "data": {
      "image/png": "[encoded data removed]",
      "text/plain": [
       "<Figure size 1440x1440 with 1 Axes>"
      ]
     },
     "metadata": {
      "needs_background": "light"
     },
     "output_type": "display_data"
    }
   ],
   "source": [
    "from sklearn.metrics import confusion_matrix\n",
    "from sklearn.preprocessing import LabelEncoder\n",
    "from matplotlib import pyplot as plt\n",
    "%matplotlib inline\n",
    "\n",
    "gts_dets = np.array([[gt['label'], gt['predict']] for _, single_image_ground_truths in all_images_ground_truths.items() for gt in single_image_ground_truths])\n",
    "\n",
    "labels = set(gts_dets[:, 0])\n",
    "labels.update(gts_dets[:, 1])\n",
    "labels = sorted(list(labels))\n",
    "le = LabelEncoder()\n",
    "le.fit(labels)\n",
    "\n",
    "conf_mx = confusion_matrix(gts_dets[:, 0], \n",
    "                           gts_dets[:, 1], \n",
    "                           labels=labels)\n",
    "row_sums = conf_mx.sum(axis=1, keepdims=True)\n",
    "norm_conf_mx = conf_mx / row_sums\n",
    "np.fill_diagonal(norm_conf_mx, 0)\n",
    "\n",
    "plt.figure(figsize=(20,20))\n",
    "plt.imshow(norm_conf_mx, cmap='gray')\n",
    "plt.xticks(np.arange(len(labels)), labels=labels, family='Tahoma')\n",
    "plt.yticks(np.arange(len(labels)), labels=labels, family='Tahoma')\n",
    "plt.show()\n"
   ]
  },
  {
   "cell_type": "markdown",
   "metadata": {},
   "source": [
    "### Draw Result"
   ]
  },
  {
   "cell_type": "code",
   "execution_count": 25,
   "metadata": {},
   "outputs": [],
   "source": [
    "def draw_detection(out_dir, image_path, detections, font, display_label=True):\n",
    "    image_name = os.path.basename(image_path).split('.')[0]\n",
    "    \n",
    "    cleaned_image = Image.open(image_path)\n",
    "    if cleaned_image.mode != 'RGB':\n",
    "        cleaned_image = cleaned_image.convert('RGB')\n",
    "    cleaned_image_drawer = ImageDraw.Draw(cleaned_image)    \n",
    "    \n",
    "    for det in detections:\n",
    "        label = det['label']\n",
    "        xmin, ymin, xmax, ymax = det['box']\n",
    "        cleaned_image_drawer.line([(xmin, ymin), \n",
    "                                   (xmax, ymin),\n",
    "                                   (xmax, ymax),\n",
    "                                   (xmin, ymax),\n",
    "                                   (xmin, ymin)], fill=(255, 0, 0), width=2)\n",
    "        if display_label:\n",
    "            cleaned_image_drawer.text((xmin + (xmax - xmin) / 2, ymax), label, fill=(255,0,0), font=font)\n",
    "    cleaned_image.save(os.path.join(out_dir, f'{image_name}.jpg'))\n",
    "\n",
    "# Define font\n",
    "font_path = 'C:/Users/iApp/Desktop/projects/object-detection/models/research/object_detection/utils/fonts/angsa.ttf'\n",
    "font = ImageFont.truetype(font_path, 18)\n"
   ]
  },
  {
   "cell_type": "code",
   "execution_count": 69,
   "metadata": {},
   "outputs": [],
   "source": [
    "# Draw True Positive\n",
    "correct_detection_dir = os.path.join(TEST_RESULT_DIR, 'correct_detection')\n",
    "if not os.path.exists(correct_detection_dir):\n",
    "    os.makedirs(correct_detection_dir)\n",
    "    \n",
    "for image_name, single_image_detections in all_images_detections.items():\n",
    "    image_path = os.path.join(TEST_IMAGES_DIR_PATH, image_name + '.jpg')\n",
    "    detections_to_draw = [detection for detection in single_image_detections if detection['label'] == detection['actual']]\n",
    "    if len(detections_to_draw) > 0:\n",
    "        draw_detection(correct_detection_dir, image_path, detections_to_draw, font)"
   ]
  },
  {
   "cell_type": "code",
   "execution_count": 72,
   "metadata": {},
   "outputs": [],
   "source": [
    "# Draw False Positive\n",
    "wrong_detection_dir = os.path.join(TEST_RESULT_DIR, 'wrong_detection')\n",
    "#if not os.path.exists(wrong_detection_dir):\n",
    "#    os.makedirs(wrong_detection_dir)\n",
    "    \n",
    "for image_name, single_image_detections in all_images_detections.items():\n",
    "    image_path = os.path.join(TEST_IMAGES_DIR_PATH, image_name + '.jpg')\n",
    "    wrong_detections = [detection for detection in single_image_detections if detection['label'] != detection['actual']]\n",
    "    if len(wrong_detections) > 0:\n",
    "        for wrong_detection in wrong_detections:\n",
    "            if wrong_detection['actual'] == 'NA':\n",
    "                out_dir = os.path.join(wrong_detection_dir, 'NA')\n",
    "            else:\n",
    "                out_dir = os.path.join(wrong_detection_dir, str((wrong_detection['actual'])), str((wrong_detection['label'])))\n",
    "            if not os.path.exists(out_dir):\n",
    "                os.makedirs(out_dir)\n",
    "            draw_detection(out_dir, image_path, [wrong_detection], font)"
   ]
  },
  {
   "cell_type": "code",
   "execution_count": 76,
   "metadata": {},
   "outputs": [],
   "source": [
    "# Draw False Negative\n",
    "undetected_dir = os.path.join(TEST_RESULT_DIR, 'undetected')\n",
    "\n",
    "for image_name, single_image_ground_truths in all_images_ground_truths.items():\n",
    "    image_path = os.path.join(TEST_IMAGES_DIR_PATH, image_name + '.jpg')\n",
    "    gts_to_draw = [gt for gt in single_image_ground_truths if gt['predict'] == 'NA']\n",
    "    if len(gts_to_draw) > 0:\n",
    "        for gt in gts_to_draw:\n",
    "            out_dir = os.path.join(undetected_dir, str((gt['label'])))\n",
    "            if not os.path.exists(out_dir):\n",
    "                os.makedirs(out_dir)\n",
    "            draw_detection(out_dir, image_path, [gt], font, display_label=False)"
   ]
  },
  {
   "cell_type": "code",
   "execution_count": 78,
   "metadata": {},
   "outputs": [],
   "source": [
    "# Draw All Detection\n",
    "all_detections_dir = os.path.join(TEST_RESULT_DIR, 'all_detection')\n",
    "if not os.path.exists(all_detections_dir):\n",
    "    os.makedirs(all_detections_dir)\n",
    "for image_name, single_image_detections in all_images_detections.items():\n",
    "    image_path = os.path.join(TEST_IMAGES_DIR_PATH, image_name + '.jpg')\n",
    "    draw_detection(all_detections_dir, image_path, single_image_detections, font) "
   ]
  },
  {
   "cell_type": "code",
   "execution_count": null,
   "metadata": {},
   "outputs": [],
   "source": []
  }
 ],
 "metadata": {
  "colab": {
   "default_view": {},
   "name": "object_detection_tutorial.ipynb?workspaceId=ronnyvotel:python_inference::citc",
   "provenance": [],
   "version": "0.3.2",
   "views": {}
  },
  "kernelspec": {
   "display_name": "object-detection",
   "language": "python",
   "name": "object-detection"
  },
  "language_info": {
   "codemirror_mode": {
    "name": "ipython",
    "version": 3
   },
   "file_extension": ".py",
   "mimetype": "text/x-python",
   "name": "python",
   "nbconvert_exporter": "python",
   "pygments_lexer": "ipython3",
   "version": "3.6.7"
  }
 },
 "nbformat": 4,
 "nbformat_minor": 2
}
